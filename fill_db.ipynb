{
 "cells": [
  {
   "cell_type": "markdown",
   "metadata": {},
   "source": [
    "### TODO\n",
    "- [ ] Add more data\n",
    "- [ ] Add more issues from other repositories\n",
    "- [ ] Add closed issues from nextjs"
   ]
  },
  {
   "cell_type": "code",
   "execution_count": 47,
   "metadata": {},
   "outputs": [
    {
     "data": {
      "text/plain": [
       "True"
      ]
     },
     "execution_count": 47,
     "metadata": {},
     "output_type": "execute_result"
    }
   ],
   "source": [
    "import pandas as pd\n",
    "import json\n",
    "import mysql.connector\n",
    "import requests as req\n",
    "from dotenv import load_dotenv\n",
    "from datetime import datetime\n",
    "from datetime import timezone\n",
    "import os\n",
    "load_dotenv()  # take environment variables from .env.\n"
   ]
  },
  {
   "cell_type": "code",
   "execution_count": 20,
   "metadata": {},
   "outputs": [],
   "source": [
    "GITHUB_TOKEN = os.getenv('GITHUB_TOKEN')\n",
    "pd.set_option('display.max_columns', None)\n"
   ]
  },
  {
   "cell_type": "code",
   "execution_count": 3,
   "metadata": {},
   "outputs": [],
   "source": [
    "cnx = mysql.connector.connect(user='root', password='Rvega2015',\n",
    "                              host='127.0.0.1',\n",
    "                              database='github')"
   ]
  },
  {
   "cell_type": "code",
   "execution_count": null,
   "metadata": {},
   "outputs": [],
   "source": [
    "df = pd.read_json('json/language/all.json')\n",
    "df.sort_values(by='stargazers_count', ascending=False, inplace=True)\n",
    "df = df[df['open_issues'] > 1000]\n",
    "\n",
    "df.head(1)"
   ]
  },
  {
   "cell_type": "code",
   "execution_count": 57,
   "metadata": {},
   "outputs": [],
   "source": [
    "def add_developer(developer) -> None:\n",
    "        cursor = cnx.cursor()\n",
    "        query = \"INSERT INTO developers (id, login, html_url, type) VALUES (%s,%s,%s,%s)\"\n",
    "        values = (developer['id'], developer['login'], developer['html_url'], developer['type'])\n",
    "        try :\n",
    "            cursor.execute(query, values)\n",
    "            cnx.commit()\n",
    "\n",
    "        except mysql.connector.Error as err:\n",
    "            print(err)\n",
    "            pass\n",
    "        cursor.close()\n"
   ]
  },
  {
   "cell_type": "code",
   "execution_count": 60,
   "metadata": {},
   "outputs": [],
   "source": [
    "def developers_to_db():\n",
    "    developers = []\n",
    "    rows = df.shape[0]\n",
    "    for i in range(rows):\n",
    "        row = df.iloc[i]\n",
    "        developer = row['owner']\n",
    "        developers.append(developer)\n",
    "        add_developer(developer)"
   ]
  },
  {
   "cell_type": "code",
   "execution_count": 6,
   "metadata": {},
   "outputs": [],
   "source": [
    "important_columns = ['id', 'full_name', 'owner', 'size', 'watchers_count', 'stargazers_count', 'description', 'html_url', 'name', 'language', 'forks_count', 'open_issues_count', 'created_at', 'updated_at']\n",
    "\n",
    "def get_important_fields(row) -> list:\n",
    "    important_fields = []\n",
    "    for column in important_columns:\n",
    "        if column in list(row.keys()):\n",
    "            if (column == 'owner'):\n",
    "                important_fields.append(row[column]['id'])\n",
    "            else:\n",
    "                important_fields.append(row[column])\n",
    "    return important_fields\n",
    "def repositories_to_db():\n",
    "    cursor = cnx.cursor()\n",
    "    rows = df.shape[0]\n",
    "    for i in range(rows):\n",
    "        row = df.iloc[i].to_dict()\n",
    "        important_fields = get_important_fields(row)\n",
    "\n",
    "        query = \"INSERT INTO repositories (id, full_name, owner_id, size, watchers_count, stargazers_count, description, url, name, language, forks_count, open_issues_count, created_at, pushed_at) VALUES (%s, %s, %s, %s, %s, %s, %s, %s, %s, %s, %s, %s, %s, %s)\"\n",
    "        try :\n",
    "            cursor.execute(query, important_fields)\n",
    "            cnx.commit()\n",
    "\n",
    "        except mysql.connector.Error as err:\n",
    "            print(err)\n",
    "            pass\n",
    "    cursor.close()"
   ]
  },
  {
   "cell_type": "code",
   "execution_count": 55,
   "metadata": {},
   "outputs": [],
   "source": [
    "def check_if_user_exist(user):\n",
    "    cursor = cnx.cursor()\n",
    "    query = \"SELECT * FROM developers WHERE id = %s\"\n",
    "    values = (user['id'],)\n",
    "    cursor.execute(query, values)\n",
    "    result = cursor.fetchall()\n",
    "    cursor.close()\n",
    "    return len(result) > 0\n"
   ]
  },
  {
   "cell_type": "code",
   "execution_count": 63,
   "metadata": {},
   "outputs": [
    {
     "name": "stdout",
     "output_type": "stream",
     "text": [
      "1062 (23000): Duplicate entry '1442350478' for key 'issues.PRIMARY'\n",
      "1062 (23000): Duplicate entry '1442819358' for key 'issues.PRIMARY'\n",
      "1062 (23000): Duplicate entry '1442702053' for key 'issues.PRIMARY'\n",
      "1062 (23000): Duplicate entry '1443064151' for key 'issues.PRIMARY'\n",
      "1062 (23000): Duplicate entry '1442914190' for key 'issues.PRIMARY'\n",
      "1062 (23000): Duplicate entry '1443000319' for key 'issues.PRIMARY'\n",
      "1062 (23000): Duplicate entry '1443118290' for key 'issues.PRIMARY'\n",
      "1062 (23000): Duplicate entry '1441401836' for key 'issues.PRIMARY'\n",
      "1062 (23000): Duplicate entry '1437554391' for key 'issues.PRIMARY'\n",
      "1062 (23000): Duplicate entry '1442910902' for key 'issues.PRIMARY'\n",
      "1062 (23000): Duplicate entry '1442669990' for key 'issues.PRIMARY'\n",
      "1062 (23000): Duplicate entry '1441758361' for key 'issues.PRIMARY'\n",
      "1062 (23000): Duplicate entry '1433902840' for key 'issues.PRIMARY'\n",
      "1062 (23000): Duplicate entry '1441851976' for key 'issues.PRIMARY'\n",
      "1062 (23000): Duplicate entry '1443085498' for key 'issues.PRIMARY'\n",
      "1062 (23000): Duplicate entry '1439824116' for key 'issues.PRIMARY'\n",
      "1062 (23000): Duplicate entry '1442974625' for key 'issues.PRIMARY'\n",
      "1062 (23000): Duplicate entry '1426900503' for key 'issues.PRIMARY'\n",
      "1062 (23000): Duplicate entry '1442976310' for key 'issues.PRIMARY'\n",
      "1062 (23000): Duplicate entry '1443016699' for key 'issues.PRIMARY'\n",
      "1062 (23000): Duplicate entry '1443057940' for key 'issues.PRIMARY'\n",
      "1062 (23000): Duplicate entry '1442736734' for key 'issues.PRIMARY'\n",
      "1062 (23000): Duplicate entry '1443122479' for key 'issues.PRIMARY'\n",
      "1062 (23000): Duplicate entry '1443060079' for key 'issues.PRIMARY'\n",
      "1062 (23000): Duplicate entry '1442990799' for key 'issues.PRIMARY'\n",
      "1062 (23000): Duplicate entry '1443077660' for key 'issues.PRIMARY'\n",
      "1062 (23000): Duplicate entry '1442646581' for key 'issues.PRIMARY'\n",
      "1062 (23000): Duplicate entry '1443032959' for key 'issues.PRIMARY'\n",
      "1062 (23000): Duplicate entry '1442986451' for key 'issues.PRIMARY'\n",
      "1062 (23000): Duplicate entry '1442696198' for key 'issues.PRIMARY'\n",
      "1062 (23000): Duplicate entry '1443083107' for key 'issues.PRIMARY'\n",
      "1062 (23000): Duplicate entry '1443098446' for key 'issues.PRIMARY'\n"
     ]
    }
   ],
   "source": [
    "\n",
    "def issues_to_db():\n",
    "    cursor = cnx.cursor()\n",
    "    query = \"SELECT id, full_name FROM repositories\"\n",
    "    cursor.execute(query)\n",
    "    repositories = cursor.fetchall()\n",
    "    cursor.close()\n",
    "    for repo in repositories:\n",
    "        full_name = repo[1]\n",
    "        repo_id = repo[0]\n",
    "        r = req.get(\n",
    "            f\"https://api.github.com/repos/{full_name}/issues?state=open&per_page=1\",\n",
    "            headers={'Authorization': f'token {GITHUB_TOKEN}'}\n",
    "        )\n",
    "        issues = r.json()\n",
    "        for (idx, issue) in enumerate(issues):\n",
    "            cursor = cnx.cursor()\n",
    "            created_at = datetime.fromisoformat(\n",
    "                issue['created_at'][:-1]).astimezone(timezone.utc)\n",
    "            closed_at = datetime.fromisoformat(\n",
    "                issue['closed_at'][:-1]).astimezone(timezone.utc) if issue['closed_at'] else None\n",
    "\n",
    "            user_exist = check_if_user_exist(issue['user'])\n",
    "            if not user_exist:\n",
    "                add_developer(issue['user'])\n",
    "\n",
    "            query = \"INSERT INTO issues (id, body, closed_at, comments, created_at, labels, milestone, number, state, title, url, repo_id, user_id) VALUES (%s, %s, %s, %s, %s, %s, %s, %s, %s, %s, %s, %s, %s)\"\n",
    "            values = (issue['id'], issue['body'], closed_at, issue['comments'], created_at, str(\n",
    "                issue['labels']), issue['milestone'], issue['number'], issue['state'], issue['title'], issue['url'], repo_id, issue['user']['id'])\n",
    "            try:\n",
    "                cursor.execute(query, values)\n",
    "                cnx.commit()\n",
    "            except mysql.connector.Error as err:\n",
    "                print(err)\n",
    "                pass\n",
    "            cursor.close()\n",
    "\n",
    "\n",
    "issues_to_db()\n"
   ]
  }
 ],
 "metadata": {
  "kernelspec": {
   "display_name": "Python 3.8.10 64-bit",
   "language": "python",
   "name": "python3"
  },
  "language_info": {
   "codemirror_mode": {
    "name": "ipython",
    "version": 3
   },
   "file_extension": ".py",
   "mimetype": "text/x-python",
   "name": "python",
   "nbconvert_exporter": "python",
   "pygments_lexer": "ipython3",
   "version": "3.8.10"
  },
  "orig_nbformat": 4,
  "vscode": {
   "interpreter": {
    "hash": "e7370f93d1d0cde622a1f8e1c04877d8463912d04d973331ad4851f04de6915a"
   }
  }
 },
 "nbformat": 4,
 "nbformat_minor": 2
}
